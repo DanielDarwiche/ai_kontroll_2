{
 "cells": [
  {
   "cell_type": "markdown",
   "id": "dacf74e6",
   "metadata": {},
   "source": [
    "# NumPy"
   ]
  },
  {
   "cell_type": "markdown",
   "id": "01b2bf34",
   "metadata": {},
   "source": [
    "Read the links: https://numpy.org/doc/stable/user/quickstart.html  and https://numpy.org/doc/stable/user/basics.broadcasting.html  before solving the exercises. "
   ]
  },
  {
   "cell_type": "code",
   "execution_count": 9,
   "id": "1f79e4a6",
   "metadata": {},
   "outputs": [],
   "source": [
    "import numpy as np"
   ]
  },
  {
   "cell_type": "markdown",
   "id": "7dae6889",
   "metadata": {},
   "source": [
    "### Print out the dimension (number of axes), shape, size and the datatype of the matrix A."
   ]
  },
  {
   "cell_type": "code",
   "execution_count": 58,
   "id": "7b3678cd",
   "metadata": {},
   "outputs": [],
   "source": [
    "A = np.arange(1, 16).reshape(3,5)"
   ]
  },
  {
   "cell_type": "code",
   "execution_count": 60,
   "id": "31d39235",
   "metadata": {},
   "outputs": [
    {
     "name": "stdout",
     "output_type": "stream",
     "text": [
      "The number of axes are: 2\n",
      "The shape is: (3, 5) and the size is: 15\n",
      "The datatype of matrix A is int32.\n"
     ]
    }
   ],
   "source": [
    "print(f\"The number of axes are: {A.ndim}\")\n",
    "print(\"The shape is:\", A.shape, \"and the size is:\", A.size)\n",
    "print(f\"The datatype of matrix A is {A.dtype}.\")"
   ]
  },
  {
   "cell_type": "markdown",
   "id": "e56d2a96",
   "metadata": {},
   "source": [
    "### Do the following computations on the matrices B and C: \n",
    "* Elementwise subtraction. \n",
    "* Elementwise multiplication. \n",
    "* Matrix multiplication (by default you should use the @ operator)."
   ]
  },
  {
   "cell_type": "code",
   "execution_count": 237,
   "id": "a7053fbb",
   "metadata": {},
   "outputs": [
    {
     "name": "stdout",
     "output_type": "stream",
     "text": [
      "Matrix B:\n",
      " [[1 2 3]\n",
      " [4 5 6]\n",
      " [7 8 9]]\n",
      "\n",
      "Matrix C:\n",
      " [[2 2 2]\n",
      " [2 2 2]\n",
      " [2 2 2]]\n",
      "\n",
      "Elementwise subtraction using B and C => B-C:\n",
      " [[-1  0  1]\n",
      " [ 2  3  4]\n",
      " [ 5  6  7]]\n",
      "\n",
      "Elementwise multiplication using B and C => B*C:\n",
      " [[ 2  4  6]\n",
      " [ 8 10 12]\n",
      " [14 16 18]]\n",
      "\n",
      "Matrix multiplication using B, C and @ => B@C:\n",
      " [[12 12 12]\n",
      " [30 30 30]\n",
      " [48 48 48]]\n"
     ]
    }
   ],
   "source": [
    "B = np.arange(1, 10).reshape(3, 3)\n",
    "C = np.ones((3, 3))*2\n",
    "\n",
    "C = C.astype(int) #snyggar till lite \n",
    "print(\"Matrix B:\\n\", B)\n",
    "print(\"\\nMatrix C:\\n\", C)\n",
    "\n",
    "print(\"\\nElementwise subtraction using B and C => B-C:\\n\", B-C) \n",
    "print(\"\\nElementwise multiplication using B and C => B*C:\\n\", B*C) \n",
    "print(\"\\nMatrix multiplication using B, C and @ => B@C:\\n\", B@C) \n"
   ]
  },
  {
   "cell_type": "markdown",
   "id": "96030d53",
   "metadata": {},
   "source": [
    "### Do the following calculations on the matrix:\n",
    "* Exponentiate each number elementwise (use the np.exp function).\n",
    "\n",
    "* Calculate the minimum value in the whole matrix. \n",
    "* Calculcate the minimum value in each row. \n",
    "* Calculcate the minimum value in each column. \n",
    "\n",
    "\n",
    "* Find the index value for the minimum value in the whole matrix (hint: use np.argmin).\n",
    "* Find the index value for the minimum value in each row (hint: use np.argmin).\n",
    "\n",
    "\n",
    "* Calculate the sum for all elements.\n",
    "* Calculate the mean for each column. \n",
    "* Calculate the median for each column. "
   ]
  },
  {
   "cell_type": "code",
   "execution_count": 241,
   "id": "f8a9166b",
   "metadata": {},
   "outputs": [
    {
     "name": "stdout",
     "output_type": "stream",
     "text": [
      "[[1 2 3]\n",
      " [4 5 6]\n",
      " [7 8 9]]\n"
     ]
    }
   ],
   "source": [
    "B = np.arange(1, 10).reshape(3, 3)\n",
    "print(B)"
   ]
  },
  {
   "cell_type": "code",
   "execution_count": 382,
   "id": "f03f24f7",
   "metadata": {},
   "outputs": [
    {
     "name": "stdout",
     "output_type": "stream",
     "text": [
      "Exponentiating B:\n",
      " [[7.3890561 7.3890561]\n",
      " [7.3890561 7.3890561]]\n",
      "\n",
      "Finding the smallest value:  2\n",
      "\n",
      "Smallest value rowwise:  [2 2]\n",
      "\n",
      "Smallest value columnwise:  [2 2]\n",
      "Index value for minimum value in matrix: (0, 0)\n",
      "Index value for minimum value rowwise: [0 0]\n",
      "\n",
      "Calculating all elements togheter:  [[8 8]\n",
      " [8 8]]\n",
      "\n",
      "Calculating the mean for each column:  [2. 2.]\n",
      "\n",
      "Calculating the median for each column:  [2. 2.]\n"
     ]
    }
   ],
   "source": [
    "print(\"Exponentiating B:\\n\", np.exp(B))\n",
    "print(\"\\nFinding the smallest value: \", np.min(B))\n",
    "print(\"\\nSmallest value rowwise: \", np.min(B, axis=1))\n",
    "print(\"\\nSmallest value columnwise: \", np.min(B, axis=0))\n",
    "\n",
    "\n",
    "min_index = np.argmin(B)\n",
    "row_ind, col_ind = np.unravel_index(min_index, B.shape)\n",
    "print(\"Index value for minimum value in matrix:\", (row_ind, col_ind))\n",
    "\n",
    "\n",
    "minsta_indexes = np.argmin(B, axis=1)\n",
    "print(\"Index value for minimum value rowwise:\", minsta_indexes)\n",
    "\n",
    "             \n",
    "print(\"\\nCalculating all elements togheter: \", B@B)\n",
    "print(\"\\nCalculating the mean for each column: \", np.mean(B, axis=0))\n",
    "print(\"\\nCalculating the median for each column: \", np.median(B, axis = 0))\n",
    "\n"
   ]
  },
  {
   "cell_type": "markdown",
   "id": "541eb7ba",
   "metadata": {},
   "source": [
    "### What does it mean when you provide fewer indices than axes when slicing? See example below."
   ]
  },
  {
   "cell_type": "code",
   "execution_count": 385,
   "id": "9c8abf56",
   "metadata": {},
   "outputs": [
    {
     "name": "stdout",
     "output_type": "stream",
     "text": [
      "[[4 4]\n",
      " [2 2]]\n"
     ]
    }
   ],
   "source": [
    "print(A)"
   ]
  },
  {
   "cell_type": "code",
   "execution_count": 387,
   "id": "69415f7b",
   "metadata": {},
   "outputs": [
    {
     "data": {
      "text/plain": [
       "array([2, 2])"
      ]
     },
     "execution_count": 387,
     "metadata": {},
     "output_type": "execute_result"
    }
   ],
   "source": [
    "A[1]"
   ]
  },
  {
   "cell_type": "markdown",
   "id": "6c53541b",
   "metadata": {},
   "source": [
    "**Answer:**"
   ]
  },
  {
   "cell_type": "code",
   "execution_count": 390,
   "id": "de01e120",
   "metadata": {},
   "outputs": [
    {
     "name": "stdout",
     "output_type": "stream",
     "text": [
      "When writing fewer indices than axis, the missing index is replaced with colon ':', which returns everything along that specific axis!\n"
     ]
    }
   ],
   "source": [
    "print(\"When writing fewer indices than axis, the missing index is replaced with colon ':', which returns everything along that specific axis!\")"
   ]
  },
  {
   "cell_type": "markdown",
   "id": "6652d0c9",
   "metadata": {},
   "source": [
    "### Iterating over multidimensional arrays is done with respect to the first axis, so in the example below we iterate trough the rows. If you would like to iterate through the array *elementwise*, how would you do that?"
   ]
  },
  {
   "cell_type": "code",
   "execution_count": 393,
   "id": "9459864f",
   "metadata": {},
   "outputs": [
    {
     "data": {
      "text/plain": [
       "array([[4, 4],\n",
       "       [2, 2]])"
      ]
     },
     "execution_count": 393,
     "metadata": {},
     "output_type": "execute_result"
    }
   ],
   "source": [
    "A"
   ]
  },
  {
   "cell_type": "code",
   "execution_count": 395,
   "id": "a671bb5a",
   "metadata": {},
   "outputs": [
    {
     "name": "stdout",
     "output_type": "stream",
     "text": [
      "[4 4]\n",
      "[2 2]\n"
     ]
    }
   ],
   "source": [
    "for i in A:\n",
    "    print(i)"
   ]
  },
  {
   "cell_type": "code",
   "execution_count": 397,
   "id": "f4e443a0",
   "metadata": {},
   "outputs": [
    {
     "name": "stdout",
     "output_type": "stream",
     "text": [
      "4\n",
      "4\n",
      "2\n",
      "2\n"
     ]
    }
   ],
   "source": [
    "for i in np.nditer(A):\n",
    "    print(i)"
   ]
  },
  {
   "cell_type": "markdown",
   "id": "608a2583",
   "metadata": {},
   "source": [
    "### Explain what the code below does. More specifically, b has three axes - what does this mean? "
   ]
  },
  {
   "cell_type": "code",
   "execution_count": 400,
   "id": "f8f9b26f",
   "metadata": {},
   "outputs": [
    {
     "name": "stdout",
     "output_type": "stream",
     "text": [
      "[ 0  1  2  3  4  5  6  7  8  9 10 11 12 13 14 15 16 17 18 19 20 21 22 23\n",
      " 24 25 26 27 28 29]\n",
      "\n",
      "[[[ 0  1  2  3  4]\n",
      "  [ 5  6  7  8  9]\n",
      "  [10 11 12 13 14]]\n",
      "\n",
      " [[15 16 17 18 19]\n",
      "  [20 21 22 23 24]\n",
      "  [25 26 27 28 29]]]\n"
     ]
    }
   ],
   "source": [
    "a = np.arange(30)\n",
    "b = a.reshape((2, 3, -1))\n",
    "print(a)\n",
    "print()\n",
    "\n",
    "print(b)"
   ]
  },
  {
   "cell_type": "code",
   "execution_count": 402,
   "id": "863a45df",
   "metadata": {},
   "outputs": [
    {
     "name": "stdout",
     "output_type": "stream",
     "text": [
      "a is creating an array with elements from 0-29.\n",
      "b is creating a copy of a, and shaping it multidimentionally\n"
     ]
    }
   ],
   "source": [
    "print(\"a is creating an array with elements from 0-29.\\nb is creating a copy of a, and shaping it multidimentionally\")"
   ]
  },
  {
   "cell_type": "code",
   "execution_count": 404,
   "id": "eed38bbb-dd20-4d23-837f-679aa3d3a067",
   "metadata": {},
   "outputs": [
    {
     "name": "stdout",
     "output_type": "stream",
     "text": [
      "reshaping b with (2, 3, -1) means what there will be two matrices(2), three rows(3).\n",
      "And the last axis -1 means numpy will calculate the size of the last axis(depending on the amount of elements) so that all elements fit.\n"
     ]
    }
   ],
   "source": [
    "print(\"reshaping b with (2, 3, -1) means what there will be two matrices(2), three rows(3).\\nAnd the last axis -1 means numpy will calculate the size of the last axis(depending on the amount of elements) so that all elements fit.\")"
   ]
  },
  {
   "cell_type": "markdown",
   "id": "421c9607-819a-401d-949a-97424436fe29",
   "metadata": {},
   "source": [
    "# For the exercises below, read the document *\"matematik_yh_antonio_vektorer_matriser_utdrag\"*\n",
    "# Solutions to the exercises and recorded videos can be found here: https://github.com/AntonioPrgomet/matematik_foer_yh\n",
    "\n",
    "# If you find the exercises below very hard, do not worry. Try your best, that will be enough. "
   ]
  },
  {
   "cell_type": "markdown",
   "id": "ab5933d5",
   "metadata": {},
   "source": [
    "### Broadcasting\n",
    "**Read the following link about broadcasting: https://numpy.org/doc/stable/user/basics.broadcasting.html#basics-broadcasting**"
   ]
  },
  {
   "cell_type": "markdown",
   "id": "039805ba",
   "metadata": {},
   "source": [
    "# Remark on Broadcasting when doing Linear Algebra calculations in Python. "
   ]
  },
  {
   "cell_type": "markdown",
   "id": "c4bcc147",
   "metadata": {},
   "source": [
    "### From the mathematical rules of matrix addition, the operation below (m1 + m2) does not make sense. The reason is that matrix addition requires two matrices of the same size. In Python however, it works due to broadcasting rules in NumPy. So you must be careful when doing Linear Algebra calculations in Python since they do not follow the \"mathematical rules\". This can however easily be handled by doing some simple programming, for example validating that two matrices have the same shape is easy if you for instance want to add two matrices. "
   ]
  },
  {
   "cell_type": "code",
   "execution_count": 410,
   "id": "1fd46778",
   "metadata": {},
   "outputs": [
    {
     "name": "stdout",
     "output_type": "stream",
     "text": [
      "[[2 3]\n",
      " [4 5]]\n"
     ]
    }
   ],
   "source": [
    "m1 = np.array([[1, 2], [3, 4]])\n",
    "m2 = np.array([1, 1])\n",
    "print(m1 + m2)"
   ]
  },
  {
   "cell_type": "markdown",
   "id": "047d6576",
   "metadata": {},
   "source": [
    "### The example below would also not be allowed if following the \"mathematical rules\" in Linear Algebra. But it works due to broadcasting in NumPy. "
   ]
  },
  {
   "cell_type": "code",
   "execution_count": 413,
   "id": "5e6ef2e4",
   "metadata": {},
   "outputs": [
    {
     "name": "stdout",
     "output_type": "stream",
     "text": [
      "[2 3 4]\n"
     ]
    }
   ],
   "source": [
    "v1 = np.array([1, 2, 3])\n",
    "print(v1 + 1)"
   ]
  },
  {
   "cell_type": "code",
   "execution_count": 415,
   "id": "e2cbae26",
   "metadata": {},
   "outputs": [
    {
     "name": "stdout",
     "output_type": "stream",
     "text": [
      "[[1 2]\n",
      " [3 4]]\n",
      "[2 2]\n"
     ]
    }
   ],
   "source": [
    "A = np.arange(1, 5).reshape(2,2)\n",
    "print(A)\n",
    "\n",
    "b = np.array([2, 2])\n",
    "print(b)"
   ]
  },
  {
   "cell_type": "markdown",
   "id": "722fd5cd",
   "metadata": {},
   "source": [
    "# Vector- and matrix algebra Exercises"
   ]
  },
  {
   "cell_type": "markdown",
   "id": "b63a3081-d976-4d9f-bfd0-a63917e79f7d",
   "metadata": {},
   "source": [
    "**Now you are going to create a function that can be reused every time you add or multiply matrices. The function is created so that we do the addition and multiplication according to the rules of vector- and matrix algebra.**\n",
    "\n",
    "**Create a function \"add_mult_matrices\" that takes two matrices as input arguments (validate that the input are of the type numpy.ndarray by using the isinstance function), a third argument that is either 'add' or 'multiply' that specifies if you want to add or multiply the matrices (validate that the third argument is either 'add' or 'multiply'). When doing matrix addition, validate that the matrices have the same size. When doing matrix multiplication, validate that the sizes conform (i.e. number of columns in the first matrix is equal to the number of rows in the second matrix).**"
   ]
  },
  {
   "cell_type": "code",
   "execution_count": 476,
   "id": "3506f977-ac0a-473f-85bc-eec9f35dc498",
   "metadata": {
    "scrolled": true
   },
   "outputs": [
    {
     "name": "stdout",
     "output_type": "stream",
     "text": [
      "TEST 1:\n",
      "\n",
      "Matrix one IS of instance ndarray\n",
      "Matrix two IS of instance ndarray\n",
      "Math action chosen: add.\n",
      "Checking if matrices have the same sizes...\n",
      "\n",
      "Check complete. Matrices sizes DO match. \n",
      "\n",
      "Matrix one added with matrix two is:\n",
      " [[6 6]\n",
      " [4 4]]\n",
      "\n",
      "TEST 2:\n",
      "\n",
      "Matrix one IS of instance ndarray\n",
      "Matrix two IS of instance ndarray\n",
      "Math action chosen: multiply.\n",
      "Checking if matrices sizes conform...\n",
      "\n",
      "Check complete. Matrices sizes DO conform. \n",
      "\n",
      "Matrix one multiplied with matrix two is:\n",
      " [[16 16]\n",
      " [ 8  8]]\n",
      "\n",
      "TEST 3:\n",
      "\n",
      "Matrix one IS of instance ndarray\n",
      "Matrix two IS of instance ndarray\n",
      "Math action chosen: add.\n",
      "Checking if matrices have the same sizes...\n",
      "\n",
      "Check complete. Matrices sizes DO match. \n",
      "\n",
      "Matrix one added with matrix two is:\n",
      " [[ 6  8]\n",
      " [10 12]]\n",
      "[[ 6  8]\n",
      " [10 12]]\n",
      "\n",
      "TEST 4:\n",
      "\n",
      "Matrix one IS of instance ndarray\n",
      "Matrix two IS of instance ndarray\n",
      "Math action chosen: add.\n",
      "Checking if matrices have the same sizes...\n",
      "\n",
      "Matrices do NOT have the same size.\n",
      "False\n",
      "\n",
      "TEST 5:\n",
      "\n",
      "Matrix one IS of instance ndarray\n",
      "Matrix two IS of instance ndarray\n",
      "Math action chosen: multiply.\n",
      "Checking if matrices sizes conform...\n",
      "\n",
      "Check complete. Matrices sizes DO conform. \n",
      "\n",
      "Matrix one multiplied with matrix two is:\n",
      " [[19 22]\n",
      " [43 50]]\n",
      "[[19 22]\n",
      " [43 50]]\n",
      "\n",
      "TEST 6:\n",
      "\n",
      "Matrix one IS of instance ndarray\n",
      "Matrix two IS of instance ndarray\n",
      "Math action chosen: add.\n",
      "Checking if matrices have the same sizes...\n",
      "\n",
      "Check complete. Matrices sizes DO match. \n",
      "\n",
      "Matrix one added with matrix two is:\n",
      " [[3 2 2]\n",
      " [4 5 5]]\n",
      "[[3 2 2]\n",
      " [4 5 5]]\n",
      "\n",
      "TEST 7:\n",
      "\n",
      "Matrix one IS of instance ndarray\n",
      "Matrix two IS of instance ndarray\n",
      "Math action chosen: multiply.\n",
      "Checking if matrices sizes conform...\n",
      "\n",
      "Matrices sizes do NOT conform for multiplication.\n",
      "False\n"
     ]
    }
   ],
   "source": [
    "def add_mult_matrices(mat_one, mat_two, math_action):\n",
    "    if isinstance(mat_one, np.ndarray):\n",
    "        print(\"Matrix one IS of instance ndarray\")\n",
    "    else:\n",
    "        print(\"Matrix one is NOT of instance ndarray\")\n",
    "        return False\n",
    "    if isinstance(mat_two, np.ndarray):\n",
    "        print(\"Matrix two IS of instance ndarray\")\n",
    "    else:\n",
    "        print(\"Matrix two is NOT of instance ndarray\")\n",
    "        return False\n",
    "    if math_action.lower() == \"add\":\n",
    "        print(\"Math action chosen: add.\")\n",
    "        print(\"Checking if matrices have the same sizes...\\n\")\n",
    "        if mat_one.shape == mat_two.shape:\n",
    "            print(\"Check complete. Matrices sizes DO match. \\n\")\n",
    "            res = mat_one + mat_two\n",
    "            print(\"Matrix one added with matrix two is:\\n\", res)\n",
    "            return res\n",
    "        else:\n",
    "            print(\"Matrices do NOT have the same size.\")\n",
    "            return False\n",
    "    elif math_action.lower() == \"multiply\":\n",
    "        print(\"Math action chosen: multiply.\")\n",
    "        print(\"Checking if matrices sizes conform...\\n\")\n",
    "        if mat_one.shape[1] == mat_two.shape[0]:\n",
    "            print(\"Check complete. Matrices sizes DO conform. \\n\")\n",
    "            result = mat_one @ mat_two\n",
    "            print(\"Matrix one multiplied with matrix two is:\\n\", result)\n",
    "            return result\n",
    "        else:\n",
    "            print(\"Matrices sizes do NOT conform for multiplication.\")\n",
    "            return False\n",
    "    else:\n",
    "        print(\"Action entered must be 'add' or 'multiply'\")\n",
    "        return False\n",
    "\n",
    "\n",
    "A = np.array([[4, 4], [2, 2]])\n",
    "B = np.array([[2, 2], [2, 2]]) \n",
    "\n",
    "C = np.array([[1, 2], [3, 4]])\n",
    "D = np.array([[5, 6], [7, 8]])\n",
    "OWRONG = np.array([[2], [7]])\n",
    "\n",
    "X = np.array([[1, 2, 1], [3, 2, 1]])\n",
    "Y = np.array([[2, 0, 1], [1, 3, 4]])\n",
    "\n",
    "print(\"TEST 1:\\n\")\n",
    "add_mult_matrices(A, B, 'add')\n",
    "\n",
    "print(\"\\nTEST 2:\\n\")\n",
    "add_mult_matrices(A, B, 'multiply')\n",
    "\n",
    "print(\"\\nTEST 3:\\n\")\n",
    "print(add_mult_matrices(C, D, 'add'))\n",
    " \n",
    "print(\"\\nTEST 4:\\n\")\n",
    "print(add_mult_matrices(D, OWRONG, 'add'))\n",
    "\n",
    "print(\"\\nTEST 5:\\n\")\n",
    "print(add_mult_matrices(C, D, 'multiply'))\n",
    "\n",
    "print(\"\\nTEST 6:\\n\")\n",
    "print(add_mult_matrices(X, Y, 'add'))\n",
    "\n",
    "print(\"\\nTEST 7:\\n\")\n",
    "print(add_mult_matrices(X, OWRONG, 'multiply'))\n"
   ]
  },
  {
   "cell_type": "markdown",
   "id": "8dad82d0-2359-4dff-8f5b-a57d3e34103c",
   "metadata": {},
   "source": [
    "### Solve all the exercises in chapter 10.1 in the book \"Matematik för yrkeshögskolan\". "
   ]
  },
  {
   "cell_type": "code",
   "execution_count": 508,
   "id": "89df88af-3668-4d98-a0a4-e6d92eea0f89",
   "metadata": {},
   "outputs": [
    {
     "ename": "SyntaxError",
     "evalue": "unmatched ')' (92710355.py, line 1)",
     "output_type": "error",
     "traceback": [
      "\u001b[1;36m  Cell \u001b[1;32mIn[508], line 1\u001b[1;36m\u001b[0m\n\u001b[1;33m    a)Eftersom vektorn x har två axlar är den tvådimensionell.\u001b[0m\n\u001b[1;37m     ^\u001b[0m\n\u001b[1;31mSyntaxError\u001b[0m\u001b[1;31m:\u001b[0m unmatched ')'\n"
     ]
    }
   ],
   "source": [
    "a)Eftersom vektorn x har två axlar är den tvådimensionell.\n",
    "b)5x = (20,15)\n",
    "c)3x = (12,9)\n",
    "d)5x + 3x = (20,15)+(12,9) = (32,24)\n",
    "e)8x = (32,24)\n",
    "f)4x-x = (16,12)-(4,3) = (12,9)\n",
    "g)Transponering leder till att man byter dimension mellan vektorer. \n",
    "Transponeringen av x= (4,3) leder till att x blir\n",
    "x=(4\n",
    "   3), eftersom x var en radvektor och sedan blev en kolumnvektor.\n",
    "h)x+xT är inte definierat eftersom variablarna har olika dimensioner och för att utföra ekvationer behöver variblerna ha samma dimensioner.\n",
    "i)||x|| om x=(4,3)\n",
    "4*4 + 3*3 = 16 + 9 = 25\n",
    "kvadratroten av 25 = 5\n",
    "||x|| = 5\n"
   ]
  },
  {
   "cell_type": "markdown",
   "id": "75c98984-1f88-4df1-b850-d2466de444a5",
   "metadata": {},
   "source": [
    "### Solve all the exercises, except 10.2.4, in chapter 10.2 in the book \"Matematik för yrkeshögskolan\". "
   ]
  },
  {
   "cell_type": "code",
   "execution_count": 512,
   "id": "65371610-16e1-48b2-b7fb-65e49002608a",
   "metadata": {},
   "outputs": [
    {
     "ename": "SyntaxError",
     "evalue": "unmatched ')' (1294067032.py, line 2)",
     "output_type": "error",
     "traceback": [
      "\u001b[1;36m  Cell \u001b[1;32mIn[512], line 2\u001b[1;36m\u001b[0m\n\u001b[1;33m    a)2A = [4 2 -2\u001b[0m\n\u001b[1;37m     ^\u001b[0m\n\u001b[1;31mSyntaxError\u001b[0m\u001b[1;31m:\u001b[0m unmatched ')'\n"
     ]
    }
   ],
   "source": [
    "10.2.1\n",
    "a)2A = [4 2 -2\n",
    "        2 -2 2]\n",
    "b)B - 2A = [0 -4 3\n",
    "          0 -2 -4]\n",
    "c)3C - 2E = [1 6\n",
    "           6 1]\n",
    "d)2D - 3C = [3 2 \n",
    "             2 3]\n",
    "\n",
    "e)DT + 2D = [9 12\n",
    "             12 9]\n",
    "f)2CT - 2DT = [-4 -4\n",
    "               -4 -4]\n",
    "g)AT - B går inte eftersom de är odefinierat/har olika dimensioner.\n",
    "h)AC går inte eftersom de är odefinierat/har olika dimensioner.\n",
    "i)CD = [11 10\n",
    "        10 11]\n",
    "j)CB = [8 -10 -3\n",
    "       10 -8 0]\n",
    "k)CI = [1 2 \n",
    "        2 1]\n",
    "l)ABT = [5 2\n",
    "        7 4]\n",
    "10.2.2\n",
    "AAT när A=[2 3 4\n",
    "          5 4 1]\n",
    " AT=[2 5\n",
    "     3 4\n",
    "     4 1]\n",
    "\n",
    "AAT = [2 3 4\n",
    "       5 4 1]  [2 5\n",
    "                3 4\n",
    "                4 1]\n",
    "\n",
    "2*2 + 3*3 + 4*4 = 4+9+16 = 29\n",
    "2*5 + 3*4 + 4*1 = 10+12+4 = 26\n",
    "5*2 + 4*3 + 1*4 = 10+12+4 = 26\n",
    "5*5 + 4*4 + 1*1 = 25+16+1 = 42\n",
    "AAT = [29 26\n",
    "        26 42]\n",
    "\n",
    "10.2.3\n",
    "AB = [1 2] [2 1]\n",
    "     [2 4] [1 3]   = AB = [4 7]\n",
    "                          [8 14]\n",
    "                        \n",
    "AB = [1 2] [4 3]\n",
    "     [2 4] [0 2]   AC = [4 7]\n",
    "                        [8 14]\n"
   ]
  },
  {
   "cell_type": "markdown",
   "id": "6a4a524f",
   "metadata": {},
   "source": [
    "### Copies and Views\n",
    "Read the following link: https://numpy.org/doc/stable/user/basics.copies.html"
   ]
  },
  {
   "cell_type": "markdown",
   "id": "6cbbeaf7",
   "metadata": {},
   "source": [
    "**Basic indexing creates a view, How can you check if v1 and v2 is a view or copy? If you change the last element in v2 to 123, will the last element in v1 be changed? Why?**"
   ]
  },
  {
   "cell_type": "code",
   "execution_count": 484,
   "id": "5b9ef4df",
   "metadata": {},
   "outputs": [
    {
     "name": "stdout",
     "output_type": "stream",
     "text": [
      "[0 1 2 3]\n",
      "[2 3]\n"
     ]
    }
   ],
   "source": [
    "v1 = np.arange(4)\n",
    "v2 = v1[-2:]\n",
    "print(v1)\n",
    "print(v2)"
   ]
  },
  {
   "cell_type": "code",
   "execution_count": 486,
   "id": "d2440489",
   "metadata": {},
   "outputs": [
    {
     "name": "stdout",
     "output_type": "stream",
     "text": [
      "None\n",
      "[0 1 2 3]\n"
     ]
    }
   ],
   "source": [
    "# The base attribute of a view returns the original array while it returns None for a copy.\n",
    "print(v1.base)\n",
    "print(v2.base)"
   ]
  },
  {
   "cell_type": "code",
   "execution_count": 490,
   "id": "c8752807",
   "metadata": {},
   "outputs": [
    {
     "name": "stdout",
     "output_type": "stream",
     "text": [
      "[  0   1   2 123]\n",
      "[  2 123]\n"
     ]
    }
   ],
   "source": [
    "# The last element in v1 will be changed aswell since v2 is a view, meaning they share the same data buffer.\n",
    "v2[-1] = 123\n",
    "print(v1)\n",
    "print(v2)"
   ]
  },
  {
   "cell_type": "code",
   "execution_count": 496,
   "id": "3dd68221",
   "metadata": {},
   "outputs": [
    {
     "name": "stdout",
     "output_type": "stream",
     "text": [
      "To check if v1 or v2 is a view or a copy you can use the property '.base'.\n",
      "If the variable is a view, '.base' will print the original array.\n",
      "If the variable is the original or a copy, '.base' will print None.\n",
      "\n",
      "If I change the last element in v2 to 123 the last element in v1 will be changed.\n",
      "The reason is v1 and v2 share buffered memory, and v2 is a view of v1. Changing v2 therefore results in changing v1!\n",
      "\n",
      "v2[-1] is the last index of v1, and writing =123 assignes the index value 123.\n"
     ]
    }
   ],
   "source": [
    "print(\"To check if v1 or v2 is a view or a copy you can use the property '.base'.\\nIf the variable is a view, '.base' will print the original array.\\nIf the variable is the original or a copy, '.base' will print None.\\n\")\n",
    "print(\"If I change the last element in v2 to 123 the last element in v1 will be changed.\\nThe reason is v1 and v2 share buffered memory, and v2 is a view of v1. Changing v2 therefore results in changing v1!\\n\")\n",
    "print(\"v2[-1] is the last index of v1, and writing =123 assignes the index value 123.\")"
   ]
  }
 ],
 "metadata": {
  "kernelspec": {
   "display_name": "Python [conda env:base] *",
   "language": "python",
   "name": "conda-base-py"
  },
  "language_info": {
   "codemirror_mode": {
    "name": "ipython",
    "version": 3
   },
   "file_extension": ".py",
   "mimetype": "text/x-python",
   "name": "python",
   "nbconvert_exporter": "python",
   "pygments_lexer": "ipython3",
   "version": "3.12.7"
  }
 },
 "nbformat": 4,
 "nbformat_minor": 5
}
